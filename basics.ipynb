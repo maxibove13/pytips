{
 "cells": [
  {
   "cell_type": "markdown",
   "id": "4ed2e1ce",
   "metadata": {},
   "source": [
    "# Basics "
   ]
  },
  {
   "cell_type": "markdown",
   "id": "d52a56cb",
   "metadata": {},
   "source": [
    "### For loops"
   ]
  },
  {
   "cell_type": "code",
   "execution_count": 2,
   "id": "38bf39e1",
   "metadata": {},
   "outputs": [
    {
     "name": "stdout",
     "output_type": "stream",
     "text": [
      "The else conditionfor x = 1 and i is 0\n",
      "The else conditionfor x = 2 and i is 1\n",
      "The else conditionfor x = 3 and i is 2\n",
      "the fractionnal of 5is 120\n"
     ]
    }
   ],
   "source": [
    "x = [1, 2, 3]\n",
    "# For and if (printing values of an array with branching)\n",
    "for i, xi in enumerate(x):\n",
    "    if x==1:\n",
    "        print(\"Testing \" + \"the true condition \" + \"for x = \" + str(xi) + \" and i is \" + str(i))\n",
    "    elif x==2:\n",
    "        print(\"Testing \" + \"the false condition\" + \"for x = \" + str(xi) + \" and i is \" + str(i))\n",
    "    else:\n",
    "\n",
    "        print(\"The else condition\" + \"for x = \" + str(xi) + \" and i is \" + str(i) )      \n",
    "\n",
    "# For to compute the factorial  of a number \n",
    "def fractional(n) :\n",
    "    result = 1\n",
    "    for ni in range(n, 1, -1) :\n",
    "        result = ni*result\n",
    "    return result\n",
    "\n",
    "n = 5\n",
    "print(\"the fractionnal of \" + str(n) + \" is \" + str(fractional(n)) )"
   ]
  },
  {
   "cell_type": "markdown",
   "id": "0fe932f3",
   "metadata": {},
   "source": [
    "### While "
   ]
  },
  {
   "cell_type": "code",
   "execution_count": 3,
   "id": "d1a8c263",
   "metadata": {},
   "outputs": [
    {
     "name": "stdout",
     "output_type": "stream",
     "text": [
      "8\n"
     ]
    }
   ],
   "source": [
    "# While (Sum the divisiors of a number)\n",
    "\n",
    "def sum_divisors(x) :\n",
    "    div = 1 \n",
    "    sum = 0\n",
    "    while div < x :\n",
    "        rem = x % div\n",
    "        if rem == 0 :\n",
    "            sum += div \n",
    "        div += 1\n",
    "    return sum   \n",
    "\n",
    "print(sum_divisors(10))"
   ]
  },
  {
   "cell_type": "code",
   "execution_count": 4,
   "id": "e6dc78f1",
   "metadata": {},
   "outputs": [
    {
     "name": "stdout",
     "output_type": "stream",
     "text": [
      "0\n",
      "0\n",
      "1\n",
      "0\n",
      "1\n",
      "2\n",
      "0\n",
      "1\n",
      "2\n",
      "3\n",
      "0\n",
      "1\n",
      "2\n",
      "3\n",
      "4\n",
      "0\n",
      "1\n",
      "2\n",
      "3\n",
      "4\n",
      "5\n",
      "0\n",
      "1\n",
      "2\n",
      "3\n",
      "4\n",
      "5\n",
      "6\n",
      "0\n",
      "1\n",
      "2\n",
      "3\n",
      "4\n",
      "5\n",
      "6\n",
      "7\n",
      "0\n",
      "1\n",
      "2\n",
      "3\n",
      "4\n",
      "5\n",
      "6\n",
      "7\n",
      "8\n"
     ]
    }
   ],
   "source": []
  },
  {
   "cell_type": "code",
   "execution_count": null,
   "id": "32480955",
   "metadata": {},
   "outputs": [],
   "source": []
  }
 ],
 "metadata": {
  "kernelspec": {
   "display_name": "Python 3 (ipykernel)",
   "language": "python",
   "name": "python3"
  },
  "language_info": {
   "codemirror_mode": {
    "name": "ipython",
    "version": 3
   },
   "file_extension": ".py",
   "mimetype": "text/x-python",
   "name": "python",
   "nbconvert_exporter": "python",
   "pygments_lexer": "ipython3",
   "version": "3.10.5"
  }
 },
 "nbformat": 4,
 "nbformat_minor": 5
}
