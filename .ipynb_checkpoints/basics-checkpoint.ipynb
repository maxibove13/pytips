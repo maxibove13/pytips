{
 "cells": [
  {
   "cell_type": "markdown",
   "id": "4ed2e1ce",
   "metadata": {},
   "source": [
    "# Basics "
   ]
  },
  {
   "cell_type": "markdown",
   "id": "d52a56cb",
   "metadata": {},
   "source": [
    "### For loops"
   ]
  },
  {
   "cell_type": "code",
   "execution_count": null,
   "id": "38bf39e1",
   "metadata": {},
   "outputs": [],
   "source": [
    "x = [1, 2, 3]\n",
    "# For and if (printing values of an array with branching)\n",
    "for i, xi in enumerate(x):\n",
    "    if x==1:\n",
    "        print(\"Testing \" + \"the true condition \" + \"for x = \" + str(xi) + \" and i is \" + str(i))\n",
    "    elif x==2:\n",
    "        print(\"Testing \" + \"the false condition\" + \"for x = \" + str(xi) + \" and i is \" + str(i))\n",
    "    else:\n",
    "\n",
    "        print(\"The else condition\" + \"for x = \" + str(xi) + \" and i is \" + str(i) )      \n",
    "\n",
    "# For to compute the factorial  of a number \n",
    "def fractional(n) :\n",
    "    result = 1\n",
    "    for ni in range(n, 1, -1) :\n",
    "        result = ni*result\n",
    "    return result\n",
    "\n",
    "n = 5\n",
    "print(\"the fractionnal of \" + str(n) + \" is \" + str(fractional(n)) )"
   ]
  },
  {
   "cell_type": "markdown",
   "id": "0fe932f3",
   "metadata": {},
   "source": [
    "### While "
   ]
  },
  {
   "cell_type": "code",
   "execution_count": null,
   "id": "d1a8c263",
   "metadata": {},
   "outputs": [],
   "source": [
    "# While (Sum the divisiors of a number)\n",
    "\n",
    "def sum_divisors(x) :\n",
    "    div = 1 \n",
    "    sum = 0\n",
    "    while div < x :\n",
    "        rem = x % div\n",
    "        if rem == 0 :\n",
    "            sum += div \n",
    "        div += 1\n",
    "    return sum   \n",
    "\n",
    "print(sum_divisors(10))"
   ]
  },
  {
   "cell_type": "markdown",
   "id": "97d44320",
   "metadata": {},
   "source": [
    "### Strings"
   ]
  },
  {
   "cell_type": "markdown",
   "id": "c1adf3f9",
   "metadata": {},
   "source": [
    "##### String Reference Cheat Sheet\n",
    "In Python, there are a lot of things you can do with strings. In this cheat sheet, you’ll find the most common string operations and string methods.\n",
    "\n",
    "String operations\n",
    "- `len(string)` Returns the length of the string\n",
    "\n",
    "- for character in string Iterates over each character in the string\n",
    "\n",
    "- if substring in string Checks whether the substring is part of the string\n",
    "\n",
    "- `string[i]` Accesses the character at index i of the string, starting at zero\n",
    "\n",
    "- `string[i:j]` Accesses the substring starting at index i, ending at index j-1. If i is omitted, it's 0 by default. If j is omitted, it's len(string) by default.\n",
    "\n",
    "##### String methods\n",
    "- `string.lower()` / `string.upper()` Returns a copy of the string with all lower / upper case characters\n",
    "\n",
    "- `string.lstrip() / string.rstrip() / string.strip()` Returns a copy of the string without left / right / left or right whitespace\n",
    "\n",
    "- `string.count(substring)` Returns the number of times substring is present in the string\n",
    "\n",
    "- `string.isnumeric()` Returns True if there are only numeric characters in the string. If not, returns False.\n",
    "\n",
    "- `string.isalpha()` Returns True if there are only alphabetic characters in the string. If not, returns False.\n",
    "\n",
    "- `string.split()` / `string.split(delimiter)` Returns a list of substrings that were separated by whitespace / delimiter\n",
    "\n",
    "- `string.replace(old, new)` Returns a new string where all occurrences of old have been replaced by new.\n",
    "\n",
    "- `delimiter.join(list of strings)` Returns a new string with all the strings joined by the delimiter "
   ]
  },
  {
   "cell_type": "code",
   "execution_count": 86,
   "id": "32480955",
   "metadata": {},
   "outputs": [
    {
     "name": "stdout",
     "output_type": "stream",
     "text": [
      "the index access output is3\n",
      " CARLOS \n",
      " carlos \n",
      "Carlos\n",
      "['This', 'is', 'another', 'example']\n",
      "This is another example\n",
      "True\n",
      "This Huxley book is The doors of perception at page 235\n",
      "   in SI| velocity in km/h\n",
      "  1 m/s |   3.60 km/h\n",
      " 21 m/s |  75.60 km/h\n",
      " 41 m/s | 147.60 km/h\n"
     ]
    }
   ],
   "source": [
    "foo = \" Carlos \"\n",
    "# Access\n",
    "# foo[:3]+foo[3:]\n",
    "# Methods\n",
    "# find specific letters with index method (a function linked to a class)\n",
    "index_letter = foo.index('rlos')\n",
    "print(\"the index access output is\" + str(index_letter))\n",
    "# change upper or lower format\n",
    "upper_foo = foo.upper()\n",
    "print(upper_foo)\n",
    "lower_foo = foo.lower()\n",
    "print(lower_foo)\n",
    "# erease spaces \n",
    "print(foo.strip())\n",
    "# split \n",
    "phrase = \"This is another example\"\n",
    "print(phrase.split())\n",
    "# join\n",
    "rephrase = \" \".join([\"This\", \"is\", \"another\", \"example\"])\n",
    "print(rephrase)\n",
    "# check if it is numeric\n",
    "is_numeric_bool = \"121212\".isnumeric()\n",
    "print(is_numeric_bool)\n",
    "# add with format \n",
    "book = \"The doors of perception\"\n",
    "page = 235\n",
    "print(\"This Huxley book is {book} at page {page}\".format(book = book, page = page))\n",
    "# Plot tables from m/s to km/h and plot them into a pretty  table\n",
    "def convert(velocity): \n",
    "    return velocity*3.6\n",
    "\n",
    "# styling and asigning decimal points and position\n",
    "print(\"   in SI| velocity in km/h\".format(v, convert(v)))\n",
    "for v in range (1, 60, 20):\n",
    "    print(\"{:>3} m/s | {:>6.2f} km/h\".format(v, convert(v)))\n",
    "\n",
    "\n"
   ]
  },
  {
   "cell_type": "markdown",
   "id": "96850f9e",
   "metadata": {},
   "source": [
    "\n",
    "#### Example 1: Create a function that checks if a word or a sentence is palindrome "
   ]
  },
  {
   "cell_type": "code",
   "execution_count": 94,
   "id": "7f1800ff",
   "metadata": {},
   "outputs": [
    {
     "name": "stdout",
     "output_type": "stream",
     "text": [
      "True\n",
      "False\n",
      "True\n"
     ]
    }
   ],
   "source": [
    "def is_palindrome(input_string):\n",
    "    # We'll create two strings, to compare them\n",
    "    words_array = input_string.split(\" \")\n",
    "    new_string = \"\".join(words_array).lower()\n",
    "    reverse_string = new_string[::-1]\n",
    "    # Compare the strings\n",
    "    if new_string==reverse_string:\n",
    "        return True\n",
    "    return False\n",
    "\n",
    "print(is_palindrome(\"Never Odd or Even\")) # Should be True\n",
    "print(is_palindrome(\"abc\")) # Should be False\n",
    "print(is_palindrome(\"kayak\")) # Should be True\n",
    "\n"
   ]
  },
  {
   "cell_type": "markdown",
   "id": "32662e86",
   "metadata": {},
   "source": [
    "### Lists and Tuples\n"
   ]
  },
  {
   "cell_type": "markdown",
   "id": "1dced92e",
   "metadata": {},
   "source": [
    "*Common sequence operators*\n",
    "\n",
    "- `len(sequence)` Returns the length of the sequence\n",
    "\n",
    "- for element in sequence Iterates over each element in the sequence\n",
    "\n",
    "- if element in sequence Checks whether the element is part of the sequence\n",
    "\n",
    "- `sequence[i]` Accesses the element at index i of the sequence, starting at zero\n",
    "\n",
    "- `sequence[i:j]` Accesses a slice starting at index i, ending at index j-1. If i is omitted, it's 0 by default. If j is omitted, it's len(sequence) by default.\n",
    "\n",
    "- for index, element in enumerate(sequence) Iterates over both the indexes and the elements in the sequence at the same time\n",
    "\n",
    "*List-specific operations and methods*\n",
    "\n",
    "- `list[i]` = x Replaces the element at index i with x\n",
    "\n",
    "- `list.append(x)` Inserts x at the end of the list\n",
    "\n",
    "- `list.insert(i, x)` Inserts x at index i\n",
    "\n",
    "- `list.pop(i)` Returns the element a index i, also removing it from the list. If i is omitted, the last element is returned and removed.\n",
    "\n",
    "- `list.remove(x)` Removes the first occurrence of x in the list\n",
    "\n",
    "- `list.sort()` Sorts the items in the list\n",
    "\n",
    "- `list.reverse()` Reverses the order of items of the list\n",
    "\n",
    "- `list.clear()` Removes all the items of the list\n",
    "\n",
    "- `list.copy()` Creates a copy of the list\n",
    "\n",
    "- `list.extend(other_list)` Appends all the elements of other_list at the end of list\n"
   ]
  },
  {
   "cell_type": "code",
   "execution_count": 150,
   "id": "afe293e5",
   "metadata": {},
   "outputs": [
    {
     "name": "stdout",
     "output_type": "stream",
     "text": [
      "['string1', 'string2', 'string3']\n",
      "is string in the list ? True \n",
      "['string1', 'string2', 'string3', 'string4']\n",
      "['string1', 'string1.5', 'string2', 'string3', 'string4']\n",
      "['string1', 'string2', 'string3', 'string4']\n",
      "['string1', 'newstring2', 'string3', 'string4']\n",
      "languages = ['C', 'Java', 'Julia', 'Python'] and lengths= [1, 4, 5, 6]\n",
      "[0, 6, 4, 10, 8, 14, 12, 18, 16]\n"
     ]
    },
    {
     "data": {
      "text/plain": [
       "['string1', 'newstring2', 'string3', 'string4']"
      ]
     },
     "execution_count": 150,
     "metadata": {},
     "output_type": "execute_result"
    }
   ],
   "source": [
    "list = [\"string1\", \"string2\", \"string3\"]\n",
    "print(list)\n",
    "# check is in\n",
    "print(\"is string in the list ? {} \".format(\"string1\" in list))\n",
    "\n",
    "# append\n",
    "list.append(\"string4\")\n",
    "print(list)\n",
    "\n",
    "# insert\n",
    "list.insert(1, \"string1.5\")\n",
    "print(list)\n",
    "\n",
    "# remove \n",
    "list.remove(\"string1.5\")\n",
    "print(list)\n",
    "\n",
    "# lists are mutable \n",
    "list[1] = \"newstring2\"\n",
    "print(list)\n",
    "\n",
    "# list comprehension\n",
    "languages = [\"C\", \"Java\", \"Julia\", \"Python\"]\n",
    "lengths = [len(language) for language in languages ]\n",
    "print(\"languages = {} and lengths= {}\".format(languages, lengths))\n",
    "\n",
    "# onother example \n",
    "squere_pair = [x^2 for x in range(1,20) if x % 2 ==0]\n",
    "print(squere_pair)\n"
   ]
  },
  {
   "cell_type": "markdown",
   "id": "43509e42",
   "metadata": {},
   "source": [
    "### Dictionaries "
   ]
  },
  {
   "cell_type": "code",
   "execution_count": 160,
   "id": "71521138",
   "metadata": {},
   "outputs": [
    {
     "name": "stdout",
     "output_type": "stream",
     "text": [
      "The value is key1 for key 10\n",
      "The value is key2 for key 20\n",
      "The value is key3 for key 30\n",
      "The key is key1\n",
      "The key is key2\n",
      "The key is key3\n",
      "The value is 10 \n",
      "The value is 20 \n",
      "The value is 30 \n"
     ]
    }
   ],
   "source": [
    "val1, val2, val3 = (10, 20, 30)\n",
    "\n",
    "dict = {\"key1\":val1, \"key2\":val2, \"key3\":val3}\n",
    "\n",
    "# iterate in items \n",
    "for (key, value) in dict.items() :\n",
    "    print(\"The value is {} for key {}\".format(key, value))\n",
    "# iterate in keys \n",
    "for key in dict.keys() :\n",
    "    print(\"The key is {}\".format(key))    \n",
    "# iterate in values    \n",
    "for value in dict.values() :\n",
    "    print(\"The value is {} \".format(value))    "
   ]
  },
  {
   "cell_type": "markdown",
   "id": "4770777b",
   "metadata": {},
   "source": [
    "**Definition**\n",
    "\n",
    "-x = {key1:value1, key2:value2} \n",
    "\n",
    "**Operations**\n",
    "- len(dictionary) - Returns the number of items in the dictionary\n",
    "\n",
    "- for key in dictionary - Iterates over each key in the dictionary\n",
    "\n",
    "- for key, value in dictionary.items() - Iterates over each key,value pair in the dictionary\n",
    "\n",
    "- if key in dictionary - Checks whether the key is in the dictionary\n",
    "\n",
    "- dictionary[key] - Accesses the item with key key of the dictionary\n",
    "\n",
    "- dictionary[key] = value - Sets the value associated with key\n",
    "\n",
    "- del dictionary[key] - Removes the item with key key from the dictionary\n",
    "\n",
    "**Methods**\n",
    "\n",
    "dict.get(key, default) - Returns the element corresponding to key, or default if it's not present\n",
    "\n",
    "dict.keys() - Returns a sequence containing the keys in the dictionary\n",
    "\n",
    "dict.values() - Returns a sequence containing the values in the dictionary\n",
    "\n",
    "dict.update(other_dictionary) - Updates the dictionary with the items coming from the other dictionary. Existing entries will be replaced; new entries will be added.\n",
    "\n",
    "dict.clear() - Removes all the items of the dictionary"
   ]
  }
 ],
 "metadata": {
  "kernelspec": {
   "display_name": "Python 3 (ipykernel)",
   "language": "python",
   "name": "python3"
  },
  "language_info": {
   "codemirror_mode": {
    "name": "ipython",
    "version": 3
   },
   "file_extension": ".py",
   "mimetype": "text/x-python",
   "name": "python",
   "nbconvert_exporter": "python",
   "pygments_lexer": "ipython3",
   "version": "3.10.5"
  }
 },
 "nbformat": 4,
 "nbformat_minor": 5
}
