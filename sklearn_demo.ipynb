{
 "cells": [
  {
   "cell_type": "markdown",
   "id": "89cdb0c4",
   "metadata": {},
   "source": [
    "### Data "
   ]
  },
  {
   "cell_type": "markdown",
   "id": "58826821",
   "metadata": {},
   "source": [
    "### Numpy"
   ]
  },
  {
   "cell_type": "markdown",
   "id": "2c146c75",
   "metadata": {},
   "source": [
    "#### 1D-arrays"
   ]
  },
  {
   "cell_type": "code",
   "execution_count": 1,
   "id": "def16e2b",
   "metadata": {},
   "outputs": [
    {
     "name": "stdout",
     "output_type": "stream",
     "text": [
      "The max is 7, the min is 2, and the std is 1.8708286933869707\n"
     ]
    }
   ],
   "source": [
    "import numpy as np\n",
    "\n",
    "# create an array \n",
    "data = np.array([2,5,6,7])\n",
    "# indexing is similar to list\n",
    "data[-1]\n",
    "data[-3:-1]\n",
    "\n",
    "# methods\n",
    "max_data = data.max()\n",
    "min_data = data.min()\n",
    "mean_data = data.mean()\n",
    "std_data = data.std()\n",
    "print(\"The max is {}, the min is {}, and the std is {}\".format(max_data, min_data, std_data))\n"
   ]
  },
  {
   "cell_type": "markdown",
   "id": "0d4d63ce",
   "metadata": {},
   "source": [
    "#### N-D arrays"
   ]
  },
  {
   "cell_type": "code",
   "execution_count": 2,
   "id": "55cbc15e",
   "metadata": {},
   "outputs": [],
   "source": [
    "# create the array with, \n",
    "nd = np.array([[1,2,3],[4,5,6],[7,8,9]])\n",
    "# get the maximum per row\n",
    "nd.max(axis=1)\n",
    "# get the size \n",
    "np.shape(nd)\n",
    "# nd random\n",
    "nd_ran = np.random.rand(3,3)\n",
    "# multiply \n",
    "c = np.matmul(nd, nd_ran)\n"
   ]
  },
  {
   "cell_type": "markdown",
   "id": "6b827d87",
   "metadata": {},
   "source": [
    "### Pandas"
   ]
  },
  {
   "cell_type": "code",
   "execution_count": 3,
   "id": "5c5f2956",
   "metadata": {},
   "outputs": [],
   "source": [
    "import pandas as pd\n",
    "# Load a csv\n",
    "emissions = pd.read_csv(\"./aux/data/greenhouse-gas-emissions-industry-and-household-year-ended-2020.csv\")\n",
    "# Show first 3 rows\n",
    "emissions.head(3)\n",
    "# Show last 3 rows\n",
    "emissions.tail(3)\n",
    "# atribute columns of dataFrame object\n",
    "column_to_drop = emissions.columns[2]\n",
    "# drop the column column_to_drop\n",
    "emissions = emissions.drop(columns = column_to_drop)"
   ]
  },
  {
   "cell_type": "code",
   "execution_count": 4,
   "id": "230b0dfe",
   "metadata": {
    "scrolled": true
   },
   "outputs": [
    {
     "name": "stderr",
     "output_type": "stream",
     "text": [
      "/tmp/ipykernel_38611/2884969575.py:8: FutureWarning: Dropping of nuisance columns in DataFrame reductions (with 'numeric_only=None') is deprecated; in a future version this will raise TypeError.  Select only valid columns before calling the reduction.\n",
      "  emissions.mean()\n"
     ]
    },
    {
     "data": {
      "text/plain": [
       "year            2013.496124\n",
       "data_value    604392.364232\n",
       "dtype: float64"
      ]
     },
     "execution_count": 4,
     "metadata": {},
     "output_type": "execute_result"
    }
   ],
   "source": [
    "# number of elements\n",
    "emissions.size\n",
    "# shape of the DF\n",
    "emissions.shape\n",
    "# values of the DF\n",
    "emissions.values\n",
    "# mean of different colums\n",
    "emissions.mean()"
   ]
  },
  {
   "cell_type": "markdown",
   "id": "c994aa4c",
   "metadata": {},
   "source": [
    "Let's look at the index of the dataframe."
   ]
  },
  {
   "cell_type": "code",
   "execution_count": 5,
   "id": "547b9c4f",
   "metadata": {},
   "outputs": [
    {
     "data": {
      "text/plain": [
       "RangeIndex(start=0, stop=20638, step=1)"
      ]
     },
     "execution_count": 5,
     "metadata": {},
     "output_type": "execute_result"
    }
   ],
   "source": [
    "emissions.index"
   ]
  },
  {
   "cell_type": "markdown",
   "id": "87afa09a",
   "metadata": {},
   "source": [
    "As you can see, the index ranges from 0 to 1000. Let's set the index to something more useful. Notice that we have to specify the 'inplace' = True keyword to ensure that the change is made in place."
   ]
  },
  {
   "cell_type": "code",
   "execution_count": 6,
   "id": "ff808fd8",
   "metadata": {},
   "outputs": [],
   "source": [
    "emissions.set_index('year', inplace = True)"
   ]
  },
  {
   "cell_type": "code",
   "execution_count": 7,
   "id": "05deb1b4",
   "metadata": {
    "scrolled": true
   },
   "outputs": [
    {
     "data": {
      "text/plain": [
       "Int64Index([2007, 2007, 2007, 2007, 2007, 2007, 2007, 2007, 2007, 2007,\n",
       "            ...\n",
       "            2020, 2020, 2020, 2020, 2020, 2020, 2020, 2020, 2020, 2020],\n",
       "           dtype='int64', name='year', length=20638)"
      ]
     },
     "execution_count": 7,
     "metadata": {},
     "output_type": "execute_result"
    }
   ],
   "source": [
    "emissions.index"
   ]
  },
  {
   "cell_type": "markdown",
   "id": "a3985117",
   "metadata": {},
   "source": [
    "iloc uses integer indexing. Regardless of what the actual index is, iloc will get the associated rows/columns from integers."
   ]
  },
  {
   "cell_type": "code",
   "execution_count": 14,
   "id": "76680631",
   "metadata": {},
   "outputs": [],
   "source": [
    "# emissions.columns\n",
    "emissions.columns\n",
    "# locate a row\n",
    "emissions.loc[2007]\n",
    "# locate a multiple rows \n",
    "emissions.loc[[2007, 2017]]\n",
    "# loacte the entries with Agriculutre keyword in the anzsic_descriptor field \n",
    "emissions_agriculture = emissions[emissions['anzsic_descriptor'] == 'Agriculture']"
   ]
  },
  {
   "cell_type": "code",
   "execution_count": 15,
   "id": "b4dd8ff0",
   "metadata": {
    "scrolled": true
   },
   "outputs": [
    {
     "data": {
      "text/html": [
       "<div>\n",
       "<style scoped>\n",
       "    .dataframe tbody tr th:only-of-type {\n",
       "        vertical-align: middle;\n",
       "    }\n",
       "\n",
       "    .dataframe tbody tr th {\n",
       "        vertical-align: top;\n",
       "    }\n",
       "\n",
       "    .dataframe thead th {\n",
       "        text-align: right;\n",
       "    }\n",
       "</style>\n",
       "<table border=\"1\" class=\"dataframe\">\n",
       "  <thead>\n",
       "    <tr style=\"text-align: right;\">\n",
       "      <th></th>\n",
       "      <th>data_value</th>\n",
       "    </tr>\n",
       "  </thead>\n",
       "  <tbody>\n",
       "    <tr>\n",
       "      <th>count</th>\n",
       "      <td>3.220000e+02</td>\n",
       "    </tr>\n",
       "    <tr>\n",
       "      <th>mean</th>\n",
       "      <td>3.569107e+06</td>\n",
       "    </tr>\n",
       "    <tr>\n",
       "      <th>std</th>\n",
       "      <td>1.024997e+07</td>\n",
       "    </tr>\n",
       "    <tr>\n",
       "      <th>min</th>\n",
       "      <td>5.000000e-02</td>\n",
       "    </tr>\n",
       "    <tr>\n",
       "      <th>25%</th>\n",
       "      <td>8.282500e+02</td>\n",
       "    </tr>\n",
       "    <tr>\n",
       "      <th>50%</th>\n",
       "      <td>1.152000e+03</td>\n",
       "    </tr>\n",
       "    <tr>\n",
       "      <th>75%</th>\n",
       "      <td>3.945396e+04</td>\n",
       "    </tr>\n",
       "    <tr>\n",
       "      <th>max</th>\n",
       "      <td>4.208706e+07</td>\n",
       "    </tr>\n",
       "  </tbody>\n",
       "</table>\n",
       "</div>"
      ],
      "text/plain": [
       "         data_value\n",
       "count  3.220000e+02\n",
       "mean   3.569107e+06\n",
       "std    1.024997e+07\n",
       "min    5.000000e-02\n",
       "25%    8.282500e+02\n",
       "50%    1.152000e+03\n",
       "75%    3.945396e+04\n",
       "max    4.208706e+07"
      ]
     },
     "execution_count": 15,
     "metadata": {},
     "output_type": "execute_result"
    }
   ],
   "source": [
    "# describe the variable \n",
    "emissions_agriculture.describe()"
   ]
  },
  {
   "cell_type": "markdown",
   "id": "b8d20af5",
   "metadata": {},
   "source": [
    "We can analyze how many numbers our data frame has"
   ]
  },
  {
   "cell_type": "code",
   "execution_count": 26,
   "id": "798948cb",
   "metadata": {
    "scrolled": true
   },
   "outputs": [
    {
     "data": {
      "text/plain": [
       "<AxesSubplot:>"
      ]
     },
     "execution_count": 26,
     "metadata": {},
     "output_type": "execute_result"
    },
    {
     "data": {
      "image/png": "[encoded data removed]",
      "text/plain": [
       "<Figure size 432x288 with 1 Axes>"
      ]
     },
     "metadata": {
      "needs_background": "light"
     },
     "output_type": "display_data"
    }
   ],
   "source": [
    "# the mean of number entries\n",
    "emissions.isna().mean()\n",
    "# the mean of not a number entries\n",
    "emissions.notna().mean()\n",
    "# the values \n",
    "emissions.data_value\n",
    "# count different values of  a column\n",
    "emissions.columns\n",
    "emissions[\"variable\"].value_counts()\n",
    "# and plot them\n",
    "emissions[\"variable\"].value_counts().plot(kind = \"bar\")\n"
   ]
  },
  {
   "cell_type": "code",
   "execution_count": 28,
   "id": "604cd865",
   "metadata": {
    "scrolled": true
   },
   "outputs": [
    {
     "data": {
      "text/plain": [
       "<AxesSubplot:xlabel='year'>"
      ]
     },
     "execution_count": 28,
     "metadata": {},
     "output_type": "execute_result"
    },
    {
     "data": {
      "image/png": "[encoded data removed]",
      "text/plain": [
       "<Figure size 432x288 with 1 Axes>"
      ]
     },
     "metadata": {
      "needs_background": "light"
     },
     "output_type": "display_data"
    }
   ],
   "source": [
    "emissions.columns\n",
    "emissions.data_value.plot()"
   ]
  },
  {
   "cell_type": "code",
   "execution_count": 3,
   "id": "1a523947",
   "metadata": {},
   "outputs": [
    {
     "name": "stdout",
     "output_type": "stream",
     "text": [
      "Index(['sepal_length', 'sepal_width', 'petal_length', 'petal_width',\n",
      "       'species'],\n",
      "      dtype='object')\n"
     ]
    }
   ],
   "source": [
    "# importing modules\n",
    "from sklearn import datasets\n",
    "import pandas as pd\n",
    "import numpy as np\n",
    "\n",
    "\n",
    "# We can load in the iris dataset directly from sklearn.\n",
    "iris = datasets.load_iris()\n",
    "\n",
    "# Part 1\n",
    "'''\n",
    "a) Create a pandas dataframe called 'data' that combines the petal and sepal data with species information \n",
    "The five columns should be 'sepal_length', 'sepal_width', 'petal_length', 'petal_width', and 'species'\n",
    "'''\n",
    "data = pd.DataFrame(iris.data)\n",
    "data.columns = ['sepal_length', 'sepal_width', 'petal_length', 'petal_width'] \n",
    "data['species'] = iris.target\n",
    "print(data.columns)\n",
    "\n",
    "\n",
    "'''\n",
    "b) Notice how the 'species' column is just numbers. The names of the species are stored in a list called target_names.\n",
    "Replace the species number with the corresponding name from the target_names list.\n",
    "HINT: We can use the df.replace() function with a map dictionary.\n",
    "'''\n",
    "map_dict = {}\n",
    "for i in range(0,len(iris.target_names)):\n",
    "    map_dict[i] = iris.target_names[i] \n",
    "data['species'] = data.species.replace(map_dict)\n",
    "\n",
    "# Part 2\n",
    "'''\n",
    "a) First, we have to create two new columns, 'sepal_length/width'\n",
    "and 'petal length/width' to get a sense of the ratios. Create these columns in our 'data' dataframe.\n",
    "'''\n",
    "data['sepal_length/width'] = data['sepal_length'] / data['sepal_width']\n",
    "data['petal_length/width'] = data['petal_length'] / data['petal_width']\n",
    "\n",
    "'''\n",
    "b) Now, use the transform function to find the 'mean_sepal_length/width'\n",
    "and the 'mean_petal_length/width' for each species. You should create these columns\n",
    "in the 'data' dataframe.\n",
    "'''\n",
    "data['mean_sepal_length/width'] = data.groupby('species')['sepal_length/width'].transform('mean')\n",
    "data['mean_petal_length/width'] = data.groupby('species')['petal_length/width'].transform('mean')\n",
    "\n",
    "'''\n",
    "c) Find the squared difference between each row's length/width value and the average of its species.\n",
    "Create two new columns titled 'sq_diff_sepal_length/width' and ''sq_diff_petal_length/width'. \n",
    "HINT: Use the function np.square()\n",
    "'''\n",
    "data['sq_diff_sepal_length/width'] = np.square(data['sepal_length/width'] - data['mean_sepal_length/width'])\n",
    "data['sq_diff_petal_length/width'] = np.square(data['petal_length/width'] - data['mean_petal_length/width'])\n",
    "\n",
    "# Part 3\n",
    "'''\n",
    "a) Create a new dataframe called 'outliers_sepal' and 'outliers_petal' with the top 20 values that deviate most.\n",
    "HINT: Use the sort_values() function.\n",
    "'''\n",
    "outliers_sepal = data.sort_values(by = 'sq_diff_sepal_length/width', ascending = False).head(20)\n",
    "outliers_petal = data.sort_values(by = 'sq_diff_petal_length/width', ascending = False).head(20)\n",
    "\n",
    "'''\n",
    "b) Do any of the rows overlap? Create a list called 'outliers' to store the index numbers of any overlapping rows.\n",
    "HINT: Use list comprehension.\n",
    "'''\n",
    "outliers = [x for x in outliers_petal.index.values if x in outliers_sepal.index.values]"
   ]
  },
  {
   "cell_type": "markdown",
   "id": "ff074e10",
   "metadata": {
    "scrolled": true
   },
   "source": [
    "### Heart disease dataset "
   ]
  },
  {
   "cell_type": "markdown",
   "id": "36b03c15",
   "metadata": {},
   "source": [
    "## Dataset\n",
    "**[UCI Heart Disease Dataset](https://www.kaggle.com/ronitf/heart-disease-uci)** <br/>\n",
    "Goal: presence/absence of heart disease based the following health-related features\n",
    "\n",
    "- *age*: age in years \n",
    "- *sex*: (1 = male; 0 = female) \n",
    "- *cp*: chest pain type \n",
    "- *trestbps*: resting blood pressure (in mm Hg on admission to the hospital) \n",
    "- *chol*: serum cholestoral in mg/dl \n",
    "- *fbs*: (fasting blood sugar > 120 mg/dl) (1 = true; 0 = false) \n",
    "- *restecg*: resting electrocardiographic results \n",
    "- *thalach*: maximum heart rate achieved \n",
    "- *exang*: exercise induced angina (1 = yes; 0 = no) \n",
    "- *oldpeak*: ST depression induced by exercise relative to rest \n",
    "- *slope*: the slope of the peak exercise ST segment \n",
    "- *ca*: number of major vessels (0-3) colored by flourosopy \n",
    "- *thal*: 3 = normal; 6 = fixed defect; 7 = reversable defect \n",
    "- *target*: have disease or not (1=yes, 0=no)"
   ]
  },
  {
   "cell_type": "code",
   "execution_count": null,
   "id": "a7e11560",
   "metadata": {},
   "outputs": [],
   "source": [
    "### Importing Files\n",
    "\n",
    "import pandas as pd\n",
    "import numpy as np\n",
    "from sklearn.model_selection import train_test_split\n",
    "from sklearn.metrics import roc_auc_score\n",
    "from sklearn.metrics import accuracy_score\n",
    "from sklearn.metrics import classification_report\n",
    "from sklearn.linear_model import LogisticRegression"
   ]
  },
  {
   "cell_type": "code",
   "execution_count": 5,
   "id": "78e05b28",
   "metadata": {},
   "outputs": [
    {
     "name": "stdout",
     "output_type": "stream",
     "text": [
      "LOGISTC REGRESSION \n",
      "\n",
      "0.5104167280008562\n",
      "Accuracy:  0.8421052631578947\n",
      "AUROC:  0.9066202090592334\n",
      "              precision    recall  f1-score   support\n",
      "\n",
      "         0.0       0.83      0.83      0.83        35\n",
      "         1.0       0.85      0.85      0.85        41\n",
      "\n",
      "    accuracy                           0.84        76\n",
      "   macro avg       0.84      0.84      0.84        76\n",
      "weighted avg       0.84      0.84      0.84        76\n",
      "\n",
      "RANDOM FORETS \n",
      "\n",
      "Accuracy:  0.8552631578947368\n",
      "AUROC:  0.9059233449477352\n",
      "              precision    recall  f1-score   support\n",
      "\n",
      "         0.0       0.88      0.80      0.84        35\n",
      "         1.0       0.84      0.90      0.87        41\n",
      "\n",
      "    accuracy                           0.86        76\n",
      "   macro avg       0.86      0.85      0.85        76\n",
      "weighted avg       0.86      0.86      0.85        76\n",
      "\n"
     ]
    }
   ],
   "source": [
    "### Importing Files\n",
    "import pandas as pd\n",
    "import numpy as np\n",
    "from sklearn.model_selection import train_test_split\n",
    "from sklearn.metrics import roc_auc_score\n",
    "from sklearn.metrics import accuracy_score\n",
    "from sklearn.metrics import classification_report\n",
    "from sklearn.linear_model import LogisticRegression\n",
    "\n",
    "data = pd.read_csv(\"./aux/data/heart.csv\", index_col = 0)\n",
    "data.head()\n",
    "\n",
    "# Part 1\n",
    "'''\n",
    "a) Use one-hot encoding to transform the 'thal' feature into two columns called 'is_normal', 'is_fixed', \n",
    "and 'is_reversible'. Be sure to drop the 'thal' column afterwards.\n",
    "Hint: https://pandas.pydata.org/pandas-docs/stable/reference/api/pandas.get_dummies.html\n",
    "'''\n",
    "data['thal'].replace({3: 'normal', 6: 'fixed', 7: 'reversible'}, inplace = True)\n",
    "data = pd.get_dummies(data, columns=[\"thal\"], prefix=[\"is\"])\n",
    "\n",
    "'''\n",
    "b) Use min-max normalzaition to resacle all the features between 0 and 1. Make sure that data remains in the same\n",
    "dataframe format.\n",
    "Hint: Use https://scikit-learn.org/stable/modules/generated/sklearn.preprocessing.MinMaxScaler.html\n",
    "'''\n",
    "from sklearn.preprocessing import MinMaxScaler\n",
    "scaler = MinMaxScaler()\n",
    "data = pd.DataFrame(scaler.fit_transform(data.values), columns=data.columns, index=data.index)\n",
    "\n",
    "'''\n",
    "c) Split the data into a train, test set using a 75/25 split. Use a random state of 42 for grading purposes.\n",
    "Hint: Use https://scikit-learn.org/stable/modules/generated/sklearn.model_selection.train_test_split.html\n",
    "'''\n",
    "X = data.drop(columns = 'target')\n",
    "y = data['target']\n",
    "X_train, X_test, y_train, y_test = train_test_split(X, y, test_size=0.25, random_state=42)\n",
    "\n",
    "# Part 2\n",
    "'''\n",
    "a) Fit a logisitic regression classifier on the data. Save the model in a varaible called 'clf'. Use a random state of 42.\n",
    "Use the following paramters: penalty:'l2', solver:'liblinear', C:0.1.\n",
    "'''\n",
    "clf = LogisticRegression(penalty='l2', solver='liblinear', C=0.1, random_state = 42)\n",
    "clf.fit(X_train, y_train)\n",
    "\n",
    "'''\n",
    "b) Generate 0/1 predictions on the test set and store them in a varaible called 'pred'. \n",
    "Generate proabbility prerdictions on the test set and store them in a variable called 'scores'.\n",
    "'''\n",
    "pred = clf.predict(X_test)\n",
    "scores = clf.predict_proba(X_test)[:,1]\n",
    "print(\"LOGISTC REGRESSION \\n\")\n",
    "print(scores.mean())\n",
    "print('Accuracy: ', accuracy_score(y_test, pred))\n",
    "print('AUROC: ', roc_auc_score(y_test, scores))\n",
    "print(classification_report(y_test, pred))\n",
    "'''\n",
    "c) Fill in this function to find and return the root mean sqaured error between the predicted and actual values.\n",
    "Hint: Use his formula for the rsme: https://sciencing.com/calculate-mean-deviation-7152540.html.\n",
    "'''\n",
    "def rsme(predictions, actuals):\n",
    "    from sklearn.metrics import mean_squared_error\n",
    "    return mean_squared_error(actuals, predictions, squared=False)\n",
    "\n",
    "'''\n",
    "d) Try using a random forest classifier to fit the data instead. Use the default paramters and a random state of 42.\n",
    "Save the fitted model into a varaible called 'rf'. Generate the 'pred' and 'scores' in a similar way to part b.\n",
    "Hint: Use https://scikit-learn.org/stable/modules/generated/sklearn.ensemble.RandomForestClassifier.html\n",
    "'''\n",
    "from sklearn.ensemble import RandomForestClassifier\n",
    "rf = RandomForestClassifier(random_state=42)\n",
    "rf.fit(X_train, y_train)\n",
    "pred = rf.predict(X_test)\n",
    "scores = rf.predict_proba(X_test)[:,1]\n",
    "print(\"RANDOM FORETS \\n\")\n",
    "print('Accuracy: ', accuracy_score(y_test, pred))\n",
    "print('AUROC: ', roc_auc_score(y_test, scores))\n",
    "print(classification_report(y_test, pred))"
   ]
  }
 ],
 "metadata": {
  "kernelspec": {
   "display_name": "Python 3 (ipykernel)",
   "language": "python",
   "name": "python3"
  },
  "language_info": {
   "codemirror_mode": {
    "name": "ipython",
    "version": 3
   },
   "file_extension": ".py",
   "mimetype": "text/x-python",
   "name": "python",
   "nbconvert_exporter": "python",
   "pygments_lexer": "ipython3",
   "version": "3.10.5"
  }
 },
 "nbformat": 4,
 "nbformat_minor": 5
}
