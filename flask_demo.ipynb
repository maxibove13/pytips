{
 "cells": [
  {
   "cell_type": "markdown",
   "metadata": {},
   "source": [
    "### [Flask](https://flask.palletsprojects.com/en/2.2.x/quickstart/#a-minimal-application) is a really easy to use minimalist web framework.\n",
    "\n",
    "It enables deploying of dynamic applications with route handling, a system of HTML tags and support to serve static content."
   ]
  },
  {
   "cell_type": "markdown",
   "metadata": {},
   "source": [
    "### Define the app, its route and content"
   ]
  },
  {
   "cell_type": "code",
   "execution_count": null,
   "metadata": {},
   "outputs": [],
   "source": [
    "from flask import Flask\n",
    "\n",
    "app = Flask(__name__)\n",
    "\n",
    "@app.route('/')\n",
    "def hello_world():\n",
    "    return '<p> Hello World! </p>'"
   ]
  },
  {
   "cell_type": "markdown",
   "metadata": {},
   "source": [
    "### Run the web app"
   ]
  },
  {
   "cell_type": "code",
   "execution_count": null,
   "metadata": {},
   "outputs": [],
   "source": [
    "app.run()"
   ]
  },
  {
   "cell_type": "markdown",
   "metadata": {},
   "source": [
    "### [Flask-restx](https://flask-restx.readthedocs.io/en/latest/) is an extension for Flask that adds support for quickly building REST APIs."
   ]
  },
  {
   "cell_type": "markdown",
   "metadata": {},
   "source": [
    "Let's build a minimal web with two routes with GET and POST methods"
   ]
  },
  {
   "cell_type": "code",
   "execution_count": 9,
   "metadata": {},
   "outputs": [],
   "source": [
    "# Check app.py file that contains the a web app with two routes /hello and /goodbye which have two methods as HTTP petitions: get and post respectively:\n",
    "\n",
    "from flask import Flask\n",
    "from flask_restx import Resource, Api\n",
    "\n",
    "app = Flask(__name__)\n",
    "api = Api(app)\n",
    "\n",
    "# Routes are defined by classes\n",
    "@api.route('/hello')\n",
    "class HelloWorld(Resource):\n",
    "    # The HTTP petitions are method of each route class\n",
    "    def get(self):\n",
    "        return {'hello': 'world'}\n",
    "\n",
    "# This route is used by someone to POST its name and show it in the HTML.\n",
    "@api.route('/goodbye')\n",
    "class GoodBye(Resource):\n",
    "    def post(self):\n",
    "        name = api.payload['name']\n",
    "        return {'Responding to a POST petition containing the name': name}"
   ]
  },
  {
   "cell_type": "markdown",
   "metadata": {},
   "source": [
    "In order to continue running other cells, let's run our web app in the terminal. The flask-restx app is in the app.py file:\n",
    "`./app.py`"
   ]
  },
  {
   "cell_type": "markdown",
   "metadata": {},
   "source": [
    "We can check our running web app by sending a POST request to the `/goodbye` endpoint"
   ]
  },
  {
   "cell_type": "code",
   "execution_count": 11,
   "metadata": {},
   "outputs": [
    {
     "name": "stdout",
     "output_type": "stream",
     "text": [
      "{\n",
      "    \"Responding to a POST petition containing the name\": \"max\"\n",
      "}\n",
      "\n"
     ]
    }
   ],
   "source": [
    "import requests\n",
    "\n",
    "# Define URL and JSON to POST\n",
    "url = 'http://127.0.0.1:5000/goodbye'\n",
    "my_name = {\n",
    "    'name': 'max'\n",
    "}\n",
    "\n",
    "# make a POST request to the URL\n",
    "x = requests.post(url, json=my_name)\n",
    "\n",
    "# Print the response\n",
    "print(x.text)"
   ]
  }
 ],
 "metadata": {
  "interpreter": {
   "hash": "1d1d57e36e4307abdb4a549778bcc42ef1780f1e6edbf490ec41765799a48bf5"
  },
  "kernelspec": {
   "display_name": "Python 3.10.4 ('.venv_pytips': venv)",
   "language": "python",
   "name": "python3"
  },
  "language_info": {
   "codemirror_mode": {
    "name": "ipython",
    "version": 3
   },
   "file_extension": ".py",
   "mimetype": "text/x-python",
   "name": "python",
   "nbconvert_exporter": "python",
   "pygments_lexer": "ipython3",
   "version": "3.10.4"
  },
  "orig_nbformat": 4
 },
 "nbformat": 4,
 "nbformat_minor": 2
}
