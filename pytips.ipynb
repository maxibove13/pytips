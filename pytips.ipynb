{
 "cells": [
  {
   "cell_type": "markdown",
   "metadata": {},
   "source": [
    "### Ternary conditionals"
   ]
  },
  {
   "cell_type": "code",
   "execution_count": 8,
   "metadata": {},
   "outputs": [
    {
     "name": "stdout",
     "output_type": "stream",
     "text": [
      "0\n"
     ]
    }
   ],
   "source": [
    "condition = False\n",
    "\n",
    "# Instead of doing:\n",
    "if condition:\n",
    "    x = 1\n",
    "else:\n",
    "    x = 0\n",
    "\n",
    "# you can do:\n",
    "x = 1 if condition  else 0\n",
    "\n",
    "print(x)"
   ]
  },
  {
   "cell_type": "markdown",
   "metadata": {},
   "source": [
    "### Adding underscore to numbers"
   ]
  },
  {
   "cell_type": "code",
   "execution_count": 9,
   "metadata": {},
   "outputs": [
    {
     "name": "stdout",
     "output_type": "stream",
     "text": [
      "10000000000\n",
      "10000000000\n",
      "10,000,000,000\n"
     ]
    }
   ],
   "source": [
    "# Instead of doing:\n",
    "num1 = 10000000000\n",
    "\n",
    "# you can do:\n",
    "num2 = 10_000_000_000\n",
    "\n",
    "print(num1)\n",
    "print(num2)\n",
    "\n",
    "# You can also format the output to displayed commas as separator\n",
    "print(f\"{num2:,}\")"
   ]
  },
  {
   "cell_type": "markdown",
   "metadata": {},
   "source": [
    "### Context managers"
   ]
  },
  {
   "cell_type": "code",
   "execution_count": 10,
   "metadata": {},
   "outputs": [
    {
     "name": "stdout",
     "output_type": "stream",
     "text": [
      "The Zen of Python, by Tim Peters\n",
      "\n",
      "Beautiful is better than ugly.\n",
      "Explicit is better than implicit.\n",
      "Simple is better than complex.\n",
      "Complex is better than complicated.\n",
      "Flat is better than nested.\n",
      "Sparse is better than dense.\n",
      "Readability counts.\n",
      "Special cases aren't special enough to break the rules.\n",
      "Although practicality beats purity.\n",
      "Errors should never pass silently.\n",
      "Unless explicitly silenced.\n",
      "In the face of ambiguity, refuse the temptation to guess.\n",
      "There should be one-- and preferably only one --obvious way to do it.\n",
      "Although that way may not be obvious at first unless you're Dutch.\n",
      "Now is better than never.\n",
      "Although never is often better than *right* now.\n",
      "If the implementation is hard to explain, it's a bad idea.\n",
      "If the implementation is easy to explain, it may be a good idea.\n",
      "Namespaces are one honking great idea -- let's do more of those!\n"
     ]
    }
   ],
   "source": [
    "# Instead of doing:\n",
    "f = open('py_zen.txt', 'r')\n",
    "file_contents = f.read()\n",
    "f.close()\n",
    "\n",
    "# You can do:\n",
    "with open('py_zen.txt', 'r') as f: # Context manager\n",
    "    file_contents = f.read()\n",
    "\n",
    "print(file_contents)"
   ]
  },
  {
   "cell_type": "markdown",
   "metadata": {},
   "source": [
    "### Enumerate"
   ]
  },
  {
   "cell_type": "code",
   "execution_count": 11,
   "metadata": {},
   "outputs": [
    {
     "name": "stdout",
     "output_type": "stream",
     "text": [
      "1 Everest\n",
      "2 K2\n",
      "3 Kangchenjunga\n",
      "4 Lhotse\n",
      "5 Makalu\n",
      "6 Cho_Oyu\n",
      "7 Dhaulagiri\n",
      "8 Manaslu\n",
      "9 Nanga_Parbat\n",
      "10 Annapurna\n"
     ]
    }
   ],
   "source": [
    "names = ['Everest', 'K2', 'Kangchenjunga', 'Lhotse', 'Makalu', 'Cho_Oyu', 'Dhaulagiri', 'Manaslu', 'Nanga_Parbat', 'Annapurna']\n",
    "\n",
    "# Instead of doing:\n",
    "idx = 0\n",
    "for name in names:\n",
    "    idx += 1\n",
    "    # print(idx, name)\n",
    "\n",
    "# You can do: \n",
    "for idx, name in enumerate(names, start=1): # You can choose where to start the count\n",
    "    print(idx, name)"
   ]
  },
  {
   "cell_type": "markdown",
   "metadata": {},
   "source": [
    "### Zip"
   ]
  },
  {
   "cell_type": "code",
   "execution_count": 12,
   "metadata": {},
   "outputs": [
    {
     "name": "stdout",
     "output_type": "stream",
     "text": [
      "Top 10 highest mountains: (name, height, prominence)\n",
      "\n",
      "Everest - 8849 m - 8849 m\n",
      "K2 - 8611 m - 4020 m\n",
      "Kangchenjunga - 8586 m - 3922 m\n",
      "Lhotse - 8516 m - 610 m\n",
      "Makalu - 8463 m - 2378 m\n",
      "Cho_Oyu - 8188 m - 2344 m\n",
      "Dhaulagiri_I - 8167 m - 3357 m\n",
      "Manaslu - 8163 m - 3092 m\n",
      "Nanga_Parbat - 8126 m - 4608 m\n",
      "Annapurna - 8091 m - 2984 m\n"
     ]
    }
   ],
   "source": [
    "names = ['Everest', 'K2', 'Kangchenjunga', 'Lhotse', 'Makalu', 'Cho_Oyu', 'Dhaulagiri_I', 'Manaslu', 'Nanga_Parbat', 'Annapurna']\n",
    "heights = ['8849', '8611', '8586', '8516', '8463', '8188', '8167', '8163', '8126', '8091']\n",
    "prominence = ['8849', '4020', '3922', '610', '2378', '2344', '3357', '3092', '4608', '2984']\n",
    "\n",
    "\n",
    "print('Top 10 highest mountains: (name, height, prominence)\\n')\n",
    "\n",
    "# Instead of doing:\n",
    "for idx, name in enumerate(names):\n",
    "    height = heights[idx]\n",
    "    prom = prominence[idx]\n",
    "    # print(f' {name} - {height} m - {prom} m')\n",
    "\n",
    "# You can do:\n",
    "for name, hero, prom in zip(names, heights, prominence): # Here we are unpacking the list\n",
    "    print(f'{name} - {hero} m - {prom} m')"
   ]
  },
  {
   "cell_type": "markdown",
   "metadata": {},
   "source": [
    "### Unpacking"
   ]
  },
  {
   "cell_type": "code",
   "execution_count": 13,
   "metadata": {},
   "outputs": [
    {
     "name": "stdout",
     "output_type": "stream",
     "text": [
      "1 2\n",
      "1 2\n",
      "1 2 [3, 4, 5]\n",
      "1 2\n",
      "1 2 [3, 4] 5\n"
     ]
    }
   ],
   "source": [
    "# Instead of doing this:\n",
    "items = (1, 2, 3, 4, 5)\n",
    "print(items[0], items[1])\n",
    "\n",
    "# You can do:\n",
    "a, b, _ = (1, 2, 3)\n",
    "print(a, b)\n",
    "\n",
    "# You can also unpack elements of a tuple to a list, in this way:\n",
    "a, b, *c = (1, 2, 3, 4, 5)\n",
    "print(a, b, c)\n",
    "\n",
    "# You can omit the values of the tuple you don't use:\n",
    "a, b, *_ = (1, 2, 3, 4, 5)\n",
    "print(a, b)\n",
    "\n",
    "# You can set the firsts and last values to single variable, and the rest to another one:\n",
    "a, b, *c, d = (1, 2, 3, 4, 5)\n",
    "print(a, b, c, d)"
   ]
  },
  {
   "cell_type": "markdown",
   "metadata": {},
   "source": [
    "### Dynamic attributes for objects"
   ]
  },
  {
   "cell_type": "code",
   "execution_count": 14,
   "metadata": {},
   "outputs": [
    {
     "name": "stdout",
     "output_type": "stream",
     "text": [
      "Aldous Huxley\n",
      "Aldous Huxley\n",
      "Aldous Huxley\n",
      "Lev\n",
      "Davidovich\n",
      "Lev Davidovich\n"
     ]
    }
   ],
   "source": [
    "class Person():\n",
    "    pass\n",
    "\n",
    "person = Person()\n",
    "\n",
    "# We can easily do:\n",
    "person.first = \"Aldous\"\n",
    "person.last = \"Huxley\"\n",
    "\n",
    "print(f'{person.first} {person.last}')\n",
    "\n",
    "\n",
    "# What if the attribute name 'first' is stored in a variable?\n",
    "first_key = 'first'\n",
    "first_val = 'Aldous'\n",
    "last_key = 'last'\n",
    "last_val = 'Huxley'\n",
    "\n",
    "# Initialize another Person\n",
    "perennial_writer = Person()\n",
    "\n",
    "# Set dynamic attribute\n",
    "setattr(perennial_writer, first_key, first_val)\n",
    "setattr(perennial_writer, last_key, last_val)\n",
    "print(f'{perennial_writer.first} {perennial_writer.last}')\n",
    "\n",
    "# We can also get the attribute in this way\n",
    "first = getattr(person, first_key)\n",
    "last = getattr(person, last_key)\n",
    "print(first, last)\n",
    "\n",
    "revol = Person()\n",
    "\n",
    "# This is useful when we have a dict containing information that will be attributes\n",
    "revol_info = {'first': 'Lev', 'last': 'Davidovich'}\n",
    "\n",
    "for key, value in revol_info.items():\n",
    "    setattr(revol, key, value)\n",
    "\n",
    "for key in revol_info.keys():\n",
    "    print(getattr(revol, key))\n",
    "\n",
    "print(revol.first, revol.last)"
   ]
  },
  {
   "cell_type": "markdown",
   "metadata": {},
   "source": [
    "### Hide passwords"
   ]
  },
  {
   "cell_type": "code",
   "execution_count": 15,
   "metadata": {},
   "outputs": [
    {
     "name": "stdout",
     "output_type": "stream",
     "text": [
      "Logging In... \n"
     ]
    }
   ],
   "source": [
    "# The wrong and easy way to ask a username and password would be this: (The password is shown)\n",
    "# username = input('Username: ')\n",
    "# password = input('Password: ')\n",
    "# print('Logging In... ')\n",
    "\n",
    "# Instead you can use the getpass module\n",
    "from getpass import getpass\n",
    "\n",
    "username = input('Username: ')\n",
    "password = getpass('Password: ')\n",
    "print('Logging In... ')"
   ]
  },
  {
   "cell_type": "markdown",
   "metadata": {},
   "source": [
    "### Reloading modules"
   ]
  },
  {
   "cell_type": "code",
   "execution_count": 16,
   "metadata": {},
   "outputs": [
    {
     "name": "stdout",
     "output_type": "stream",
     "text": [
      "6\n"
     ]
    }
   ],
   "source": [
    "# Instead of restarting the kernel each time you modify a module, you can reload it manually.\n",
    "\n",
    "# Load your local module\n",
    "import testmod\n",
    "\n",
    "# Print the output of C\n",
    "# print(testmod.C)\n",
    "\n",
    "# Modify C value in testmod.py and print it again\n",
    "# print(testmod.C)\n",
    "\n",
    "# Restart the module \n",
    "import importlib\n",
    "importlib.reload(testmod)\n",
    "\n",
    "print(testmod.C)"
   ]
  },
  {
   "cell_type": "markdown",
   "metadata": {},
   "source": [
    "## f-strings"
   ]
  },
  {
   "cell_type": "code",
   "execution_count": 17,
   "metadata": {},
   "outputs": [
    {
     "name": "stdout",
     "output_type": "stream",
     "text": [
      "My name is Eduardo Chillida and I died at the age of 82.\n",
      "My name is first_val='Eduardo' last_val='Chillida' and my age_of_death=82.\n"
     ]
    }
   ],
   "source": [
    "first_val = 'Eduardo'\n",
    "last_val = 'Chillida'\n",
    "age_of_death = 82\n",
    "\n",
    "greet = f\"My name is {first_val} {last_val} and I died at the age of {age_of_death}.\"\n",
    "print(greet)\n",
    "\n",
    "# Instead of doing 'age of the death = ' you can do:\n",
    "greet = f\"My name is {first_val=} {last_val=} and my {age_of_death=}.\"\n",
    "print(greet)\n"
   ]
  },
  {
   "cell_type": "markdown",
   "metadata": {},
   "source": [
    "## Defining by comprehension "
   ]
  },
  {
   "cell_type": "code",
   "execution_count": 18,
   "metadata": {},
   "outputs": [],
   "source": [
    "elements = ['Hydrogen', 'Helium', 'Lithium', 'Beryllium', 'Boron']\n",
    "atomic_number = [i for i in range(1, len(elements)+1)]\n",
    "\n",
    "elements_dict = {e_name:a_num for (e_name, a_num) in  zip(elements, atomic_number) if a_num % 2 == 0}\n",
    "elements_set = {element for element in elements}"
   ]
  },
  {
   "cell_type": "markdown",
   "metadata": {},
   "source": [
    "## **args, **kwargs"
   ]
  },
  {
   "cell_type": "code",
   "execution_count": 19,
   "metadata": {},
   "outputs": [
    {
     "name": "stdout",
     "output_type": "stream",
     "text": [
      "kwargs['to_print']='Hello'\n"
     ]
    },
    {
     "data": {
      "text/plain": [
       "[1, 2, 3, 4, 5]"
      ]
     },
     "execution_count": 19,
     "metadata": {},
     "output_type": "execute_result"
    }
   ],
   "source": [
    "def merge_lists(list1, *args, **kwargs):\n",
    "    if \"to_print\" in  kwargs.keys():\n",
    "        print(f\"{kwargs['to_print']=}\")\n",
    "\n",
    "    list2 = args[0]\n",
    "\n",
    "    return [item for item in list1 if item not in list2] + list2\n",
    "\n",
    "merge_lists([1, 2, 3], [3, 4, 5], to_print=\"Hello\")"
   ]
  },
  {
   "cell_type": "markdown",
   "metadata": {},
   "source": [
    "## Type hints example.\n",
    "\n",
    " We can use mypy package to test typing consistency \n",
    "```python\n",
    "mypy my_file.py\n",
    "```\n"
   ]
  },
  {
   "cell_type": "code",
   "execution_count": 20,
   "metadata": {},
   "outputs": [
    {
     "name": "stdout",
     "output_type": "stream",
     "text": [
      "3\n"
     ]
    }
   ],
   "source": [
    "import typing\n",
    "\n",
    "def print_list_element(l:list[int], element: int) -> None:\n",
    "    print(l[element]) \n",
    "    \n",
    "print_list_element([1, 2, 3], 2)   "
   ]
  },
  {
   "cell_type": "markdown",
   "metadata": {},
   "source": [
    "### Break, continue and pass"
   ]
  },
  {
   "cell_type": "code",
   "execution_count": 21,
   "metadata": {},
   "outputs": [
    {
     "name": "stdout",
     "output_type": "stream",
     "text": [
      "Using break: i=1\n",
      "\n",
      "\n",
      "Using pass:i=1\n",
      "Using pass:i=3\n",
      "\n",
      "\n",
      "Using continue:i=1\n",
      "Using continue:i=3\n"
     ]
    }
   ],
   "source": [
    "# Break exits the loop\n",
    "for i in (1,2,3):\n",
    "    if i % 2 == 0:\n",
    "        break\n",
    "    print(f'Using break: {i=}')\n",
    "\n",
    "print('\\n')\n",
    "# Continue moves to the next iter\n",
    "for i in (1,2,3):\n",
    "    if i % 2 == 0:\n",
    "        continue\n",
    "    print(f'Using pass:{i=}')\n",
    "print('\\n')\n",
    "\n",
    "# Pass doesn't do anything\n",
    "for i in (1,2,3):\n",
    "    if i % 2 == 0:\n",
    "        continue\n",
    "    print(f'Using continue:{i=}')\n"
   ]
  },
  {
   "cell_type": "markdown",
   "metadata": {},
   "source": [
    "## Regular expressions\n",
    "This allows to find strings easily by typing a condition to find a string"
   ]
  },
  {
   "cell_type": "code",
   "execution_count": 22,
   "metadata": {},
   "outputs": [
    {
     "name": "stdout",
     "output_type": "stream",
     "text": [
      "['apple', 'pineapple', 'pineapple']\n"
     ]
    }
   ],
   "source": [
    "import re \n",
    "\n",
    "words = 'apple pineapple orange pear pineapple banana durian'\n",
    "words_found = re.findall(r'\\b\\w*apple*\\w*\\b', words)\n",
    "\n",
    "print(words_found)"
   ]
  },
  {
   "cell_type": "markdown",
   "metadata": {},
   "source": [
    "## Decorators\n",
    "\n",
    "Decorators are just functions that wraps another function adding certain features."
   ]
  },
  {
   "cell_type": "code",
   "execution_count": 39,
   "metadata": {},
   "outputs": [
    {
     "name": "stderr",
     "output_type": "stream",
     "text": [
      "WARNING:root:do_for took 2 seconds\n"
     ]
    }
   ],
   "source": [
    "from decorator import decorator\n",
    "import logging \n",
    "import time \n",
    "\n",
    "@decorator\n",
    "def warn_slow(func, timelimit=60, *args, **kw):\n",
    "    t0 = time.time()\n",
    "    result = func(*args, **kw)\n",
    "    dt = time.time() - t0\n",
    "    if dt > timelimit:\n",
    "        logging.warning('%s took %d seconds', func.__name__, dt)\n",
    "    else:\n",
    "        logging.info('%s took %d seconds', func.__name__, dt)\n",
    "    return result\n",
    "\n",
    "@warn_slow(timelimit=1)\n",
    "def do_for(N:int):\n",
    "    for _ in range(1,N):\n",
    "        pass\n",
    "\n",
    "do_for(100_000_000)\n"
   ]
  },
  {
   "cell_type": "markdown",
   "metadata": {},
   "source": [
    "## Magic or Dunder methods  \n",
    "\n",
    "This are built-in methods denoted with `__method_name__`, and are used to overload base and generate friendly and more natural interfaces. Magic methods uses multiple dispatch to select the right implementation. \n"
   ]
  },
  {
   "cell_type": "code",
   "execution_count": 46,
   "metadata": {},
   "outputs": [],
   "source": [
    "class TwoDimVector:\n",
    "\t\"Two-dimensional Vector implementation\"\n",
    "\tdef __init__(self, x, y):\n",
    "\t\tself.x = x \n",
    "\t\tself.y = y\n",
    "\n",
    "\tdef __add__(self, other):\n",
    "\t\t\"Add method\"\n",
    "\t\treturn TwoDimVector(self.x + other.x, self.y + other.y)\n",
    "\n",
    "\tdef __del__(self):\n",
    "\t\t\"Method to empty the heap\"\n",
    "\t\tdel self.x\n",
    "\t\tdel self.y\n",
    "\t\tprint(\"The object is deleted from the stack\")\n",
    "\t\n",
    "\tdef __repr__(self):\n",
    "\t\t\"Show REPL method\"\n",
    "\n",
    "\t\treturn f\"X is {self.x} and Y is {self.y}\" \n",
    "\n",
    "\tdef __call__(self, index):\n",
    "\t\t\"() method\"\n",
    "\t\treturn self.x if x == 1 else self.y  \n",
    "\n",
    "\tdef __len__(self):\n",
    "\t\t\"len method\"\n",
    "\t\treturn 2"
   ]
  },
  {
   "cell_type": "markdown",
   "metadata": {},
   "source": [
    "## Generators \n",
    "\n",
    "Generators are like functions used to don't allocate memory and iterate over objects. \n",
    "The keyword `yield` is used to indicate where to stop, the next state is described with the \n",
    "`next` keyword. The most common use-case for this generators is to iterate overload the `__iter__` method. Also is used to define Lazy objects, load large files from disk and so on. "
   ]
  },
  {
   "cell_type": "code",
   "execution_count": 58,
   "metadata": {},
   "outputs": [
    {
     "name": "stdout",
     "output_type": "stream",
     "text": [
      "<generator object int_generator at 0x7fa698308900>\n",
      "1\n",
      "2\n",
      "i=1\n",
      "i=2\n",
      "i=3\n",
      "i=0\n",
      "i=1\n",
      "i=2\n"
     ]
    }
   ],
   "source": [
    "from typing import Iterator\n",
    "\n",
    "# Simple case\n",
    "def int_generator():\n",
    "    yield 1\n",
    "    yield 2\n",
    "    yield 3\n",
    "\n",
    "int_gen = int_generator()\n",
    "print(int_gen)\n",
    "print(next(int_gen))\n",
    "print(next(int_gen))\n",
    "\n",
    "# For loop calls under the hood this next function \n",
    "for i in int_generator():\n",
    "    print(f'{i=}')\n",
    "\n",
    "\n",
    "# Iter case\n",
    "class Range:\n",
    "    def __init__(self, start:int=0, stop:int=1):\n",
    "        self.start = start\n",
    "        self.stop = stop\n",
    "\n",
    "    def __iter__(self) -> Iterator[int]:\n",
    "        curr = self.start \n",
    "        while curr < self.stop:\n",
    "            yield curr \n",
    "            curr += 1 \n",
    "\n",
    "\n",
    "for i in Range(start=0, stop=3):\n",
    "    print(f'{i=}')\n",
    "\n",
    "# Generators \n",
    "def collatz(n:int): \n",
    "    while True:\n",
    "        if n % 2 == 0:\n",
    "            n = n // 2\n",
    "        else: \n",
    "            n = 3 * n + 1 \n",
    "        yield n \n",
    "        if n == 1:\n",
    "            break\n",
    "    \n",
    "        "
   ]
  }
 ],
 "metadata": {
  "interpreter": {
   "hash": "1d1d57e36e4307abdb4a549778bcc42ef1780f1e6edbf490ec41765799a48bf5"
  },
  "kernelspec": {
   "display_name": ".venv",
   "language": "python",
   "name": ".venv"
  },
  "language_info": {
   "codemirror_mode": {
    "name": "ipython",
    "version": 3
   },
   "file_extension": ".py",
   "mimetype": "text/x-python",
   "name": "python",
   "nbconvert_exporter": "python",
   "pygments_lexer": "ipython3",
   "version": "3.10.12"
  },
  "orig_nbformat": 4
 },
 "nbformat": 4,
 "nbformat_minor": 2
}
