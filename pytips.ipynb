{
 "cells": [
  {
   "cell_type": "markdown",
   "metadata": {},
   "source": [
    "### Ternary conditionals"
   ]
  },
  {
   "cell_type": "code",
   "execution_count": null,
   "metadata": {},
   "outputs": [],
   "source": [
    "condition = False\n",
    "\n",
    "# Instead of doing:\n",
    "if condition:\n",
    "    x = 1\n",
    "else:\n",
    "    x = 0\n",
    "\n",
    "# you can do:\n",
    "x = 1 if condition  else 0\n",
    "\n",
    "print(x)"
   ]
  },
  {
   "cell_type": "markdown",
   "metadata": {},
   "source": [
    "### Adding underscore to numbers"
   ]
  },
  {
   "cell_type": "code",
   "execution_count": null,
   "metadata": {},
   "outputs": [],
   "source": [
    "# Instead of doing:\n",
    "num1 = 10000000000\n",
    "\n",
    "# you can do:\n",
    "num2 = 10_000_000_000\n",
    "\n",
    "print(num1)\n",
    "print(num2)\n",
    "\n",
    "# You can also format the output to displayed commas as separator\n",
    "print(f\"{num2:,}\")"
   ]
  },
  {
   "cell_type": "markdown",
   "metadata": {},
   "source": [
    "### Context managers"
   ]
  },
  {
   "cell_type": "code",
   "execution_count": null,
   "metadata": {},
   "outputs": [],
   "source": [
    "# Instead of doing:\n",
    "f = open('py_zen.txt', 'r')\n",
    "file_contents = f.read()\n",
    "f.close()\n",
    "\n",
    "# You can do:\n",
    "with open('py_zen.txt', 'r') as f: # Context manager\n",
    "    file_contents = f.read()\n",
    "\n",
    "print(file_contents)"
   ]
  },
  {
   "cell_type": "markdown",
   "metadata": {},
   "source": [
    "### Enumerate"
   ]
  },
  {
   "cell_type": "code",
   "execution_count": null,
   "metadata": {},
   "outputs": [],
   "source": [
    "names = ['Everest', 'K2', 'Kangchenjunga', 'Lhotse', 'Makalu', 'Cho_Oyu', 'Dhaulagiri', 'Manaslu', 'Nanga_Parbat', 'Annapurna']\n",
    "\n",
    "# Instead of doing:\n",
    "idx = 0\n",
    "for name in names:\n",
    "    idx += 1\n",
    "    # print(idx, name)\n",
    "\n",
    "# You can do: \n",
    "for idx, name in enumerate(names, start=1): # You can choose where to start the count\n",
    "    print(idx, name)"
   ]
  },
  {
   "cell_type": "markdown",
   "metadata": {},
   "source": [
    "### Zip"
   ]
  },
  {
   "cell_type": "code",
   "execution_count": null,
   "metadata": {},
   "outputs": [],
   "source": [
    "names = ['Everest', 'K2', 'Kangchenjunga', 'Lhotse', 'Makalu', 'Cho_Oyu', 'Dhaulagiri_I', 'Manaslu', 'Nanga_Parbat', 'Annapurna']\n",
    "heights = ['8849', '8611', '8586', '8516', '8463', '8188', '8167', '8163', '8126', '8091']\n",
    "prominence = ['8849', '4020', '3922', '610', '2378', '2344', '3357', '3092', '4608', '2984']\n",
    "\n",
    "\n",
    "print('Top 10 highest mountains: (name, height, prominence)\\n')\n",
    "\n",
    "# Instead of doing:\n",
    "for idx, name in enumerate(names):\n",
    "    height = heights[idx]\n",
    "    prom = prominence[idx]\n",
    "    # print(f' {name} - {height} m - {prom} m')\n",
    "\n",
    "# You can do:\n",
    "for name, hero, prom in zip(names, heights, prominence): # Here we are unpacking the list\n",
    "    print(f'{name} - {height} m - {prom} m')"
   ]
  },
  {
   "cell_type": "markdown",
   "metadata": {},
   "source": [
    "### Unpacking"
   ]
  },
  {
   "cell_type": "code",
   "execution_count": 87,
   "metadata": {},
   "outputs": [
    {
     "name": "stdout",
     "output_type": "stream",
     "text": [
      "1 2\n",
      "1 2\n",
      "1 2 [3, 4, 5]\n",
      "1 2\n"
     ]
    }
   ],
   "source": [
    "# Instead of doing this:\n",
    "items = (1, 2, 3, 4, 5)\n",
    "print(items[0], items[1])\n",
    "\n",
    "# You can do:\n",
    "a, b, _ = (1, 2, 3)\n",
    "print(a, b)\n",
    "\n",
    "# You can also unpack elements of a tuple to a list, in this way:\n",
    "a, b, *c = (1, 2, 3, 4, 5)\n",
    "print(a, b, c)\n",
    "\n",
    "# You can omit the values of the tuple you don't use:\n",
    "a, b, *_ = (1, 2, 3, 4, 5)\n",
    "print(a, b)\n",
    "\n"
   ]
  }
 ],
 "metadata": {
  "interpreter": {
   "hash": "1d1d57e36e4307abdb4a549778bcc42ef1780f1e6edbf490ec41765799a48bf5"
  },
  "kernelspec": {
   "display_name": "Python 3.8.10 64-bit ('.venv_pytips': venv)",
   "language": "python",
   "name": "python3"
  },
  "language_info": {
   "codemirror_mode": {
    "name": "ipython",
    "version": 3
   },
   "file_extension": ".py",
   "mimetype": "text/x-python",
   "name": "python",
   "nbconvert_exporter": "python",
   "pygments_lexer": "ipython3",
   "version": "3.8.10"
  },
  "orig_nbformat": 4
 },
 "nbformat": 4,
 "nbformat_minor": 2
}
