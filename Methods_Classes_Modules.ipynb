{
 "cells": [
  {
   "cell_type": "markdown",
   "id": "1ff5e15b",
   "metadata": {},
   "source": [
    "### Object Programming "
   ]
  },
  {
   "cell_type": "markdown",
   "id": "786bfce5",
   "metadata": {},
   "source": [
    "#### Classes "
   ]
  },
  {
   "cell_type": "code",
   "execution_count": null,
   "id": "9387c070",
   "metadata": {},
   "outputs": [],
   "source": [
    "# define an emtpy class called Solver \n",
    "class Solver:\n",
    "    pass\n",
    "# the pass keyword is to add futre attributes  \n",
    "class Solver:\n",
    "    numerical_method = \"\"\n",
    "    parameters = []\n",
    "\n",
    "# create objects\n",
    "my_solver= Solver()\n",
    "# defie attributes\n",
    "my_solver.numerical_method = \"Newton Raphson\"\n",
    "my_solver.parameters = [2, 3, 5]\n",
    "\n",
    "# \n",
    "print(my_solver.numerical_method.upper())\n",
    "print(my_solver.parameters[1]<1)"
   ]
  },
  {
   "cell_type": "markdown",
   "id": "cba7cb67",
   "metadata": {},
   "source": [
    "#### Methods"
   ]
  },
  {
   "cell_type": "markdown",
   "id": "5b023f99",
   "metadata": {},
   "source": [
    "Methods are functions to transform the attributes or state of specific objects, we can list all methods using `dir(type)`. We can access to methods and attributes of a certain object using a dot eg `\"\".upper()` or `my_solver.numerical_method`"
   ]
  },
  {
   "cell_type": "code",
   "execution_count": null,
   "id": "8d5d17c2",
   "metadata": {
    "scrolled": true
   },
   "outputs": [],
   "source": [
    "# List all methods of a certain class\n",
    "dir(\"\")\n",
    "# Search docstring help of a method\n",
    "help(\"\".__init__)"
   ]
  },
  {
   "cell_type": "markdown",
   "id": "1886d041",
   "metadata": {},
   "source": [
    "Let's work with another example: "
   ]
  },
  {
   "cell_type": "code",
   "execution_count": null,
   "id": "59091f9a",
   "metadata": {},
   "outputs": [],
   "source": [
    "# define person class\n",
    "class Person:\n",
    "    surname:\"\"\n",
    "    height:.0\n",
    "    weight:.0\n",
    "\n",
    "# create chris object\n",
    "chris = Person()\n",
    "chris.surname = \"Diaz\"\n",
    "chris.height = 1.71\n",
    "chris.weight = 77\n",
    "\n",
    "print(\"The person with surname {} is {} m tall and weights {} kg \".format(chris.surname,\n",
    "                                                                             chris.height,\n",
    "                                                                             chris.weight))\n",
    "        \n",
    "# what happen if we use:\n",
    "chris = Person(1.71, 77)\n",
    "# We can't initielize our class and add any mathod..... \n",
    "# for such task we need an internal constructor (see following block)"
   ]
  },
  {
   "cell_type": "code",
   "execution_count": null,
   "id": "ba9026a2",
   "metadata": {
    "scrolled": true
   },
   "outputs": [],
   "source": [
    "# re- define person class\n",
    "class Person:\n",
    "    # attributes \n",
    "    surname:\"\"\n",
    "    height:.0\n",
    "    weight:.0\n",
    "    \n",
    "        # Inside the class we define the init method constructor using __init__\n",
    "    def __init__(self, surname, height, weight):\n",
    "        # instanciate the attributes\n",
    "        self.surname = surname\n",
    "        self.height = height\n",
    "        self.weight = weight \n",
    "     \n",
    "    def mass_index(self):\n",
    "        return self.height * 100 / (self.weight)**2 \n",
    "    \n",
    "    \n",
    "mauri = Person(\"Vanzulli\", \"1.85\", \"72\")\n",
    "\n",
    "print(\"The person with surname {} is {} m tall and weights {} kg \".format(mauri.surname,\n",
    "                                                                             mauri.height,\n",
    "                                                                             mauri.weight))\n"
   ]
  },
  {
   "cell_type": "markdown",
   "id": "6cf78c9a",
   "metadata": {},
   "source": [
    "Now we can add a new method to our person class in order to compute the mass index and also a special method `__str__` to plot it "
   ]
  },
  {
   "cell_type": "code",
   "execution_count": null,
   "id": "2b2ce44d",
   "metadata": {
    "scrolled": false
   },
   "outputs": [],
   "source": [
    "class Person:\n",
    "    # attributes \n",
    "    surname:\"\"\n",
    "    height:.0\n",
    "    weight:.0\n",
    "    \n",
    "    # Inside the class we define the init method constructor using __init__\n",
    "    def __init__(self, surname, height, weight):\n",
    "        # instanciate the attributes\n",
    "        self.surname = surname\n",
    "        self.height = height\n",
    "        self.weight = weight \n",
    "\n",
    "    # Inside the class we define the init method constructor using __init__\n",
    "    def __str__(self):\n",
    "#         mass_index_self = mass_index(self)\n",
    "        str_to_print = \"The person with surname {} is {} m tall weights {} kg \".format(self.surname,\n",
    "                                                                                        self.height,\n",
    "                                                                                        self.weight)\n",
    "        return str_to_print \n",
    "    \n",
    "    def mass_index(self):\n",
    "        return self.height * 100 / (self.weight)**2 \n",
    "omar = Person(\"Vanzulli\", \"1.80\", \"60\")\n",
    "    \n",
    "print(gustavo)"
   ]
  },
  {
   "cell_type": "markdown",
   "id": "49ef5736",
   "metadata": {},
   "source": [
    "We can also define inehrit classes using `def class(parent)`: like this"
   ]
  },
  {
   "cell_type": "code",
   "execution_count": null,
   "id": "07243af1",
   "metadata": {
    "scrolled": true
   },
   "outputs": [],
   "source": [
    "class Clothing:\n",
    "  material = \"\"\n",
    "  def __init__(self,name):\n",
    "    self.name = name\n",
    "  def checkmaterial(self):\n",
    "\t  print(\"This {} is made of {}\".format(self.name,self.material))\n",
    "\t\t\t\n",
    "class Shirt(Clothing):\n",
    "  material=\"Cotton\"\n",
    "\n",
    "polo = Shirt(\"Polo\")\n",
    "polo.checkmaterial()"
   ]
  },
  {
   "cell_type": "markdown",
   "id": "5878af21",
   "metadata": {},
   "source": [
    "## Always initialize mutable attributes into the constructor, not as an attribute of the class"
   ]
  },
  {
   "cell_type": "markdown",
   "id": "9b8f3233",
   "metadata": {},
   "source": [
    "You can have a situation where two different classes are related, but there is no inheritance going on. This is referred to as composition -- where one class makes use of code contained in another class. For example, imagine we have a Package class which represents a software package. It contains attributes about the software package, like name, version, and size. We also have a Repository class which represents all the packages available for installation. While there’s no inheritance relationship between the two classes, they are related. The Repository class will contain a dictionary or list of Packages that are contained in the repository. Let's take a look at an example Repository class definition:"
   ]
  },
  {
   "cell_type": "code",
   "execution_count": null,
   "id": "82604ed1",
   "metadata": {},
   "outputs": [],
   "source": [
    "# Create a Reposityory calss with mutable packkages\n",
    "class Repositoriy: \n",
    "        def __init__(self):\n",
    "            self.packages = {}\n",
    "        def add_package(self, package):\n",
    "            self.package[package.name] = package\n",
    "        def total_size(self):\n",
    "            result = 0\n",
    "            for package in self.package.values():\n",
    "                result += package.size\n",
    "            return result\n",
    "        \n",
    "# Composition is to have objects as attributes :) like Package inside Repository class"
   ]
  },
  {
   "cell_type": "markdown",
   "id": "1dc7d000",
   "metadata": {},
   "source": [
    "In the constructor method, we initialize the packages dictionary, which will contain the package objects available in this repository instance. We initialize the dictionary in the constructor to ensure that every instance of the Repository class has its own dictionary.\n",
    "\n",
    "We then define the add_package method, which takes a Package object as a parameter, and then adds it to our dictionary, using the package name attribute as the key.\n",
    "\n",
    "Finally, we define a total_size method which computes the total size of all packages contained in our repository. This method iterates through the values in our repository dictionary and adds together the size attributes from each package object contained in the dictionary, returning the total at the end. In this example, we’re making use of Package attributes within our Repository class. We’re also calling the values() method on our packages dictionary instance. Composition allows us to use objects as attributes, as well as access all their attributes and methods."
   ]
  },
  {
   "cell_type": "markdown",
   "id": "3ac92f71",
   "metadata": {},
   "source": [
    "### Modules "
   ]
  },
  {
   "cell_type": "markdown",
   "id": "f80ff09a",
   "metadata": {},
   "source": [
    "Python modules are separate files that contain classes, functions, and other data that allow us to import and make use of these methods and classes in our own code. Python comes with a lot of modules out of the box. These modules are referred to as the Python Standard Library. You can make use of these modules by using the import keyword, followed by the module name. For example, we'll `import` the `random` module, and then call the `randint` function within this module:"
   ]
  },
  {
   "cell_type": "code",
   "execution_count": 4,
   "id": "f019266d",
   "metadata": {},
   "outputs": [
    {
     "data": {
      "text/plain": [
       "7"
      ]
     },
     "execution_count": 4,
     "metadata": {},
     "output_type": "execute_result"
    }
   ],
   "source": [
    "import random\n",
    "random.randint(1,10)\n",
    "random.randint(1,10)\n",
    "random.randint(1,10)"
   ]
  },
  {
   "cell_type": "markdown",
   "id": "2c73132c",
   "metadata": {},
   "source": [
    "This function takes two integer parameters and returns a random integer between the values we pass it; in this case, 1 and 10. You might notice that calling functions in a module is very similar to calling methods in a class. We use dot notation here too, with a period between the module and function names.\n",
    "\n",
    "Let's take a look at another module: datetime. This module is super helpful when working with dates and times."
   ]
  },
  {
   "cell_type": "code",
   "execution_count": 5,
   "id": "19c97569",
   "metadata": {},
   "outputs": [
    {
     "name": "stdout",
     "output_type": "stream",
     "text": [
      "2022-06-27 21:04:31.530533\n"
     ]
    }
   ],
   "source": [
    "import datetime\n",
    "now = datetime.datetime.now()\n",
    "type(now)\n",
    "print(now)\n"
   ]
  },
  {
   "cell_type": "markdown",
   "id": "a256a696",
   "metadata": {},
   "source": [
    "First, we import the module. Next, we call the now() method which belongs to the datetime class contained within the datetime module. This method generates an instance of the datetime class for the current date and time. This instance has some methods which we can call:"
   ]
  },
  {
   "cell_type": "code",
   "execution_count": 8,
   "id": "cf2560b4",
   "metadata": {},
   "outputs": [
    {
     "name": "stdout",
     "output_type": "stream",
     "text": [
      "2022-06-27 21:04:31.530533\n",
      "2022-07-25 21:04:31.530533\n"
     ]
    }
   ],
   "source": [
    "print(now)\n",
    "print(now + datetime.timedelta(days=28))"
   ]
  },
  {
   "cell_type": "markdown",
   "id": "f695e57a",
   "metadata": {},
   "source": [
    "### Solving a server problem "
   ]
  },
  {
   "cell_type": "markdown",
   "id": "cc6f91ec",
   "metadata": {},
   "source": [
    "In this exercise, we'll create a few classes to simulate a server that's taking connections from the outside and then a load balancer that ensures that there are enough servers to serve those connections.\n",
    "\n",
    "To represent the servers that are taking care of the connections, we'll use a Server class. Each connection is represented by an id, that could, for example, be the IP address of the computer connecting to the server. For our simulation, each connection creates a random amount of load in the server, between 1 and 10.\n",
    "\n",
    "Run the following code that defines this Server class."
   ]
  },
  {
   "cell_type": "code",
   "execution_count": null,
   "id": "333e8bd5",
   "metadata": {},
   "outputs": [],
   "source": [
    "#Begin Portion 1#\n",
    "import random\n",
    "\n",
    "class Server:\n",
    "    def __init__(self):\n",
    "        \"\"\"Creates a new server instance, with no active connections.\"\"\"\n",
    "        self.connections = {}\n",
    "\n",
    "    def add_connection(self, connection_id):\n",
    "        \"\"\"Adds a new connection to this server.\"\"\"\n",
    "        connection_load = random.random()*10+1\n",
    "        # Add the connection to the dictionary with the calculated load\n",
    "        self.connections[connection_id] = connection_load\n",
    "    def close_connection(self, connection_id):\n",
    "        \"\"\"Closes a connection on this server.\"\"\"\n",
    "        # Remove the connection from the dictionary\n",
    "        self.connections.pop(connection_id)\n",
    "    def load(self):\n",
    "        \"\"\"Calculates the current load for all connections.\"\"\"\n",
    "        total = 0\n",
    "        # Add up the load for each of the connections\n",
    "        for connection in self.connections.values():\n",
    "            total += connection\n",
    "        return total\n",
    "\n",
    "    def __str__(self):\n",
    "        \"\"\"Returns a string with the current load of the server\"\"\"\n",
    "        return \"{:.2f}%\".format(self.load())\n",
    "    \n",
    "#End Portion 1#"
   ]
  },
  {
   "cell_type": "markdown",
   "id": "f41f5cf5",
   "metadata": {},
   "source": [
    "Now run the following cell to create a Server instance and add a connection to it, then check the load:"
   ]
  },
  {
   "cell_type": "code",
   "execution_count": 11,
   "id": "e35ef169",
   "metadata": {},
   "outputs": [
    {
     "name": "stdout",
     "output_type": "stream",
     "text": [
      "3.1218720556467163\n",
      "0\n"
     ]
    }
   ],
   "source": [
    "server = Server()\n",
    "server.add_connection(\"192.168.1.1\")\n",
    "\n",
    "print(server.load())\n",
    "\n",
    "server.connections\n",
    "\n",
    "server.close_connection(\"192.168.1.1\")\n",
    "print(server.load())"
   ]
  },
  {
   "cell_type": "markdown",
   "id": "6b7527fe",
   "metadata": {},
   "source": [
    "Alright, we now have a basic implementation of the server class. Let's look at the basic LoadBalancing class. This class will start with only one server available. When a connection gets added, it will randomly select a server to serve that connection, and then pass on the connection to the server. The LoadBalancing class also needs to keep track of the ongoing connections to be able to close them. This is the basic structure:"
   ]
  },
  {
   "cell_type": "code",
   "execution_count": null,
   "id": "f9448ef2",
   "metadata": {},
   "outputs": [],
   "source": [
    "#Begin Portion 2#\n",
    "class LoadBalancing:\n",
    "    def __init__(self):\n",
    "        \"\"\"Initialize the load balancing system with one server\"\"\"\n",
    "        self.connections = {}\n",
    "        self.servers = [Server()]\n",
    "\n",
    "    def add_connection(self, connection_id):\n",
    "        \"\"\"Randomly selects a server and adds a connection to it.\"\"\"\n",
    "        server = random.choice(self.servers)\n",
    "        # Add the connection to the dictionary with the selected server\n",
    "        self.connections[connection_id] = server\n",
    "        # Add the connection to the server\n",
    "        server.add_connection(connection_id)\n",
    "    def close_connection(self, connection_id):\n",
    "        \"\"\"Closes the connection on the the server corresponding to connection_id.\"\"\"\n",
    "        # Find out the right server\n",
    "        server_to_close = self.connections.get(connection_id)\n",
    "        # Close the connection on the server\n",
    "        server_to_close.close_connection(connection_id)\n",
    "        # Remove the connection from the load balancer\n",
    "        self.connections.pop(connection_id)\n",
    "    def avg_load(self):\n",
    "        \"\"\"Calculates the average load of all servers\"\"\"\n",
    "        # Sum the load of each server and divide by the amount of servers\n",
    "        num_servers = len(self.servers)\n",
    "        total_load = 0\n",
    "        for server in self.servers:\n",
    "            total_load += server.load()\n",
    "        return total_load\n",
    "\n",
    "    def ensure_availability(self):\n",
    "        \"\"\"If the average load is higher than 50, spin up a new server\"\"\"\n",
    "        pass\n",
    "\n",
    "    def __str__(self):\n",
    "        \"\"\"Returns a string with the load for each server.\"\"\"\n",
    "        loads = [str(server) for server in self.servers]\n",
    "        return \"[{}]\".format(\",\".join(loads))\n",
    "#End Portion 2#"
   ]
  }
 ],
 "metadata": {
  "kernelspec": {
   "display_name": "Python 3 (ipykernel)",
   "language": "python",
   "name": "python3"
  },
  "language_info": {
   "codemirror_mode": {
    "name": "ipython",
    "version": 3
   },
   "file_extension": ".py",
   "mimetype": "text/x-python",
   "name": "python",
   "nbconvert_exporter": "python",
   "pygments_lexer": "ipython3",
   "version": "3.10.5"
  }
 },
 "nbformat": 4,
 "nbformat_minor": 5
}
